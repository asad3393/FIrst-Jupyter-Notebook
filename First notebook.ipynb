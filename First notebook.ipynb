{
    "cells": [
        {
            "cell_type": "markdown",
            "metadata": {},
            "source": "<center>\n    <img src=\"https://s3-api.us-geo.objectstorage.softlayer.net/cf-courses-data/CognitiveClass/Logos/organization_logo/organization_logo.png\" width=\"300\" alt=\"cognitiveclass.ai logo\"  />\n</center>\n"
        },
        {
            "cell_type": "markdown",
            "metadata": {},
            "source": "#### Add your code below following the instructions given in the course"
        },
        {
            "cell_type": "markdown",
            "metadata": {},
            "source": "# My Jupyter Notebook on IBM Watson Studio "
        },
        {
            "cell_type": "markdown",
            "metadata": {},
            "source": "<B>Asad Ahmed \n <br> Data Scientist </br>"
        },
        {
            "cell_type": "markdown",
            "metadata": {},
            "source": "<i>I am interested in data science because data is considered the new oil of the coming decades"
        },
        {
            "cell_type": "markdown",
            "metadata": {},
            "source": "### My code will be the product of 9 and 11"
        },
        {
            "cell_type": "code",
            "execution_count": 7,
            "metadata": {},
            "outputs": [
                {
                    "data": {
                        "text/plain": "99"
                    },
                    "execution_count": 7,
                    "metadata": {},
                    "output_type": "execute_result"
                }
            ],
            "source": "9*11"
        },
        {
            "cell_type": "markdown",
            "metadata": {},
            "source": "---"
        },
        {
            "cell_type": "markdown",
            "metadata": {},
            "source": "1. First\n2. Second\n3. Third"
        },
        {
            "cell_type": "markdown",
            "metadata": {},
            "source": "* First\n* Second\n* Third"
        }
    ],
    "metadata": {
        "kernelspec": {
            "display_name": "Python 3.9",
            "language": "python",
            "name": "python3"
        },
        "language_info": {
            "codemirror_mode": {
                "name": "ipython",
                "version": 3
            },
            "file_extension": ".py",
            "mimetype": "text/x-python",
            "name": "python",
            "nbconvert_exporter": "python",
            "pygments_lexer": "ipython3",
            "version": "3.9.12"
        }
    },
    "nbformat": 4,
    "nbformat_minor": 1
}